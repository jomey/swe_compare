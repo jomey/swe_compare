{
 "cells": [
  {
   "cell_type": "code",
   "execution_count": null,
   "id": "27b54c4a-05cc-4292-8676-3e9d3e4d3273",
   "metadata": {},
   "outputs": [],
   "source": [
    "from nb_shared import *"
   ]
  },
  {
   "cell_type": "markdown",
   "id": "1498c828-ad71-4423-b24d-ff845b65d40e",
   "metadata": {},
   "source": [
    "### Cluster for batch processing"
   ]
  },
  {
   "cell_type": "code",
   "execution_count": null,
   "id": "7425572c-22e9-415f-a4ba-ae1c0cd67353",
   "metadata": {
    "editable": true,
    "slideshow": {
     "slide_type": ""
    },
    "tags": []
   },
   "outputs": [],
   "source": [
    "cluster = start_cluster(n_workers=20, local=False)"
   ]
  },
  {
   "cell_type": "markdown",
   "id": "3a41f992-5e39-4b35-9c66-452a3b76abf9",
   "metadata": {},
   "source": [
    "## Snow-17 SWE"
   ]
  },
  {
   "cell_type": "code",
   "execution_count": null,
   "id": "12f2ea16-a3e8-45f7-a71b-2fc279152099",
   "metadata": {},
   "outputs": [],
   "source": [
    "s17_swe = Snow17SWE(\n",
    "    SWE_HOME_DIR + 'CBRFC_Blue_1981_2020_SWE_inches.csv',\n",
    ")\n",
    "\n",
    "target_zones = list(s17_swe.csv.columns)\n",
    "target_zones"
   ]
  },
  {
   "cell_type": "markdown",
   "id": "3b48cfa7-5835-4f41-90ab-78b8424eedb5",
   "metadata": {},
   "source": [
    "## SWANN for CBRFC zone"
   ]
  },
  {
   "cell_type": "code",
   "execution_count": null,
   "id": "3fe5ab42-845f-4437-9d61-db5c101db809",
   "metadata": {},
   "outputs": [],
   "source": [
    "zone_db = ZoneDB(DB_CONNECTION_INFO)\n",
    "swann_xr = xr.open_mfdataset(SWANN_HOME_DIR + '*.nc', parallel=True)"
   ]
  },
  {
   "cell_type": "code",
   "execution_count": null,
   "id": "c14572b4-b005-4891-ba9b-0b0910ac284d",
   "metadata": {},
   "outputs": [],
   "source": [
    "# Get peak SWE for each year"
   ]
  },
  {
   "cell_type": "code",
   "execution_count": null,
   "id": "0e14c821-d36f-4745-9d41-3feecdf6ec4e",
   "metadata": {},
   "outputs": [],
   "source": [
    "plot = compare_peak_swe(\n",
    "    peak_swe_for_pd(s17_swe.csv), \n",
    "    peak_swe_for_swann(swann_xr, target_zones, zone_db) \n",
    ")"
   ]
  },
  {
   "cell_type": "code",
   "execution_count": null,
   "id": "a066fa05-fb38-4412-9294-326fecf7c34f",
   "metadata": {},
   "outputs": [],
   "source": [
    "ZonePlotter.show_all(plot, 1)"
   ]
  },
  {
   "cell_type": "code",
   "execution_count": null,
   "id": "eb392fb2-fdde-4a64-b373-db3847cc5e85",
   "metadata": {},
   "outputs": [],
   "source": [
    "ZonePlotter.save_html(HTML_OUTPUT + 'blue_peak_SWE', plot, 1)"
   ]
  },
  {
   "cell_type": "code",
   "execution_count": null,
   "id": "b761b647-ddfb-4e0d-bb3f-971af2a86824",
   "metadata": {},
   "outputs": [],
   "source": [
    "cluster.shutdown()"
   ]
  },
  {
   "cell_type": "code",
   "execution_count": null,
   "id": "291531f6-409a-44a6-8ae5-896e6b35114e",
   "metadata": {},
   "outputs": [],
   "source": []
  }
 ],
 "metadata": {
  "kernelspec": {
   "display_name": "snow-viz",
   "language": "python",
   "name": "snow-viz"
  },
  "language_info": {
   "codemirror_mode": {
    "name": "ipython",
    "version": 3
   },
   "file_extension": ".py",
   "mimetype": "text/x-python",
   "name": "python",
   "nbconvert_exporter": "python",
   "pygments_lexer": "ipython3",
   "version": "3.12.3"
  }
 },
 "nbformat": 4,
 "nbformat_minor": 5
}
