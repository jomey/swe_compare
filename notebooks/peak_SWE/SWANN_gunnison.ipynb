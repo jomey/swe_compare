{
 "cells": [
  {
   "cell_type": "code",
   "execution_count": null,
   "id": "27b54c4a-05cc-4292-8676-3e9d3e4d3273",
   "metadata": {},
   "outputs": [],
   "source": [
    "from nb_shared import *"
   ]
  },
  {
   "cell_type": "markdown",
   "id": "1498c828-ad71-4423-b24d-ff845b65d40e",
   "metadata": {},
   "source": [
    "### Cluster for batch processing"
   ]
  },
  {
   "cell_type": "code",
   "execution_count": null,
   "id": "a4164589-5440-4705-9f45-e9a0ad3d55d1",
   "metadata": {
    "editable": true,
    "slideshow": {
     "slide_type": ""
    },
    "tags": []
   },
   "outputs": [],
   "source": [
    "cluster = start_cluster(n_workers=20, local=False)"
   ]
  },
  {
   "cell_type": "markdown",
   "id": "3a41f992-5e39-4b35-9c66-452a3b76abf9",
   "metadata": {},
   "source": [
    "## Snow-17 SWE\n",
    "Column names define target zones"
   ]
  },
  {
   "cell_type": "code",
   "execution_count": null,
   "id": "aad8b5bc-5eaf-4269-860a-d47ba234c42b",
   "metadata": {},
   "outputs": [],
   "source": [
    "s17_swe = Snow17SWE(\n",
    "    SWE_HOME_DIR + 'CBRFC_Gunnison_1981_2020_SWE_inches.csv',\n",
    ")\n",
    "\n",
    "target_zones = list(s17_swe.csv.columns)\n",
    "target_zones"
   ]
  },
  {
   "cell_type": "markdown",
   "id": "f4fb8663-c97c-4284-b456-83503e5bb37c",
   "metadata": {},
   "source": [
    "## SWANN for CBRFC zone"
   ]
  },
  {
   "cell_type": "code",
   "execution_count": null,
   "id": "78ce4b7f-91c1-415e-9c89-5d7f65a6b0b6",
   "metadata": {},
   "outputs": [],
   "source": [
    "zone_db = ZoneDB(DB_CONNECTION_INFO)\n",
    "swann_xr = xr.open_mfdataset(SWANN_HOME_DIR + '*.nc', parallel=True)"
   ]
  },
  {
   "cell_type": "markdown",
   "id": "18f0ab46-7a03-4cab-afab-332b37ba873e",
   "metadata": {},
   "source": [
    "# Get peak SWE for each year"
   ]
  },
  {
   "cell_type": "code",
   "execution_count": null,
   "id": "c3c7c18a-eec0-4956-be8c-167de88f10d7",
   "metadata": {},
   "outputs": [],
   "source": [
    "plot = compare_peak_swe(\n",
    "    peak_swe_for_pd(s17_swe.csv), \n",
    "    peak_swe_for_swann(swann_xr, target_zones, zone_db) \n",
    ")"
   ]
  },
  {
   "cell_type": "code",
   "execution_count": null,
   "id": "db49f35f-c70c-4aff-b5c0-a0ba95da667d",
   "metadata": {},
   "outputs": [],
   "source": [
    "ZonePlotter.show_all(plot, 1)"
   ]
  },
  {
   "cell_type": "code",
   "execution_count": null,
   "id": "a5f3d295-18a9-4923-860a-04e95359e89d",
   "metadata": {},
   "outputs": [],
   "source": [
    "ZonePlotter.save_html(HTML_OUTPUT + 'gunnison_peak_SWE', plot, 1)"
   ]
  },
  {
   "cell_type": "code",
   "execution_count": null,
   "id": "1f84c1ba-d62c-4aca-b2ec-2b4d7a11587e",
   "metadata": {},
   "outputs": [],
   "source": [
    "cluster.shutdown()"
   ]
  },
  {
   "cell_type": "code",
   "execution_count": null,
   "id": "347a63b9-fed6-4d45-9634-2870d61e394b",
   "metadata": {},
   "outputs": [],
   "source": []
  }
 ],
 "metadata": {
  "kernelspec": {
   "display_name": "snow-viz",
   "language": "python",
   "name": "snow-viz"
  },
  "language_info": {
   "codemirror_mode": {
    "name": "ipython",
    "version": 3
   },
   "file_extension": ".py",
   "mimetype": "text/x-python",
   "name": "python",
   "nbconvert_exporter": "python",
   "pygments_lexer": "ipython3",
   "version": "3.12.3"
  }
 },
 "nbformat": 4,
 "nbformat_minor": 5
}
