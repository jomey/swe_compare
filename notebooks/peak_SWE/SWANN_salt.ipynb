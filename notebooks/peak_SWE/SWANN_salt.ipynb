{
 "cells": [
  {
   "cell_type": "code",
   "execution_count": null,
   "id": "27b54c4a-05cc-4292-8676-3e9d3e4d3273",
   "metadata": {},
   "outputs": [],
   "source": [
    "from nb_shared import *"
   ]
  },
  {
   "cell_type": "markdown",
   "id": "1498c828-ad71-4423-b24d-ff845b65d40e",
   "metadata": {},
   "source": [
    "### Cluster for batch processing"
   ]
  },
  {
   "cell_type": "code",
   "execution_count": null,
   "id": "0f0868ad-c9ce-4b0d-b42a-0493abdc60ac",
   "metadata": {
    "editable": true,
    "slideshow": {
     "slide_type": ""
    },
    "tags": []
   },
   "outputs": [],
   "source": [
    "cluster = start_cluster(n_workers=20, local=False)"
   ]
  },
  {
   "cell_type": "markdown",
   "id": "3a41f992-5e39-4b35-9c66-452a3b76abf9",
   "metadata": {},
   "source": [
    "## Snow-17 SWE"
   ]
  },
  {
   "cell_type": "code",
   "execution_count": null,
   "id": "2c5417c2-6eed-412a-9077-10bef85fdb26",
   "metadata": {},
   "outputs": [],
   "source": [
    "s17_swe = Snow17SWE(\n",
    "    SWE_HOME_DIR + 'CBRFC_Salt_1981_2020_SWE_inches.csv',\n",
    ")\n",
    "\n",
    "target_zones = list(s17_swe.csv.columns)\n",
    "target_zones"
   ]
  },
  {
   "cell_type": "markdown",
   "id": "1a92cfdd-4c3f-44ba-9aee-e65c37472659",
   "metadata": {},
   "source": [
    "## SWANN for CBRFC zone"
   ]
  },
  {
   "cell_type": "code",
   "execution_count": null,
   "id": "8d0323a2-cd4d-41d8-ba9c-99e9a392401e",
   "metadata": {},
   "outputs": [],
   "source": [
    "zone_db = ZoneDB(DB_CONNECTION_INFO)\n",
    "swann_xr = xr.open_mfdataset(SWANN_HOME_DIR + '*.nc', parallel=True)"
   ]
  },
  {
   "cell_type": "markdown",
   "id": "2ce49e1b-7cb0-405a-b360-7a844fee8c43",
   "metadata": {},
   "source": [
    "# Get peak SWE for each year"
   ]
  },
  {
   "cell_type": "code",
   "execution_count": null,
   "id": "c3c7c18a-eec0-4956-be8c-167de88f10d7",
   "metadata": {},
   "outputs": [],
   "source": [
    "plot = compare_peak_swe(\n",
    "    peak_swe_for_pd(s17_swe.csv), \n",
    "    peak_swe_for_swann(swann_xr, target_zones, zone_db) \n",
    ")"
   ]
  },
  {
   "cell_type": "code",
   "execution_count": null,
   "id": "db49f35f-c70c-4aff-b5c0-a0ba95da667d",
   "metadata": {},
   "outputs": [],
   "source": [
    "ZonePlotter.show_all(plot, 1)"
   ]
  },
  {
   "cell_type": "code",
   "execution_count": null,
   "id": "9fe43d15-28ec-4d27-b57a-9a7bcc4ef9ba",
   "metadata": {},
   "outputs": [],
   "source": [
    "ZonePlotter.save_html(HTML_OUTPUT + 'salt_peak_SWE', plot, 1)"
   ]
  },
  {
   "cell_type": "code",
   "execution_count": null,
   "id": "e1f4f8c1-8f6d-4afa-b893-d85fa303229d",
   "metadata": {},
   "outputs": [],
   "source": [
    "cluster.shutdown()"
   ]
  }
 ],
 "metadata": {
  "kernelspec": {
   "display_name": "snow-viz",
   "language": "python",
   "name": "snow-viz"
  },
  "language_info": {
   "codemirror_mode": {
    "name": "ipython",
    "version": 3
   },
   "file_extension": ".py",
   "mimetype": "text/x-python",
   "name": "python",
   "nbconvert_exporter": "python",
   "pygments_lexer": "ipython3",
   "version": "3.12.3"
  }
 },
 "nbformat": 4,
 "nbformat_minor": 5
}
