{
 "cells": [
  {
   "cell_type": "code",
   "execution_count": null,
   "id": "27b54c4a-05cc-4292-8676-3e9d3e4d3273",
   "metadata": {},
   "outputs": [],
   "source": [
    "from nb_shared import *"
   ]
  },
  {
   "cell_type": "markdown",
   "id": "1498c828-ad71-4423-b24d-ff845b65d40e",
   "metadata": {},
   "source": [
    "### Cluster for batch processing"
   ]
  },
  {
   "cell_type": "code",
   "execution_count": null,
   "id": "8e2aa230-37f2-4208-bbf2-b0b3c1ed6b3d",
   "metadata": {
    "editable": true,
    "slideshow": {
     "slide_type": ""
    },
    "tags": []
   },
   "outputs": [],
   "source": [
    "cluster = start_cluster(n_workers=20, local=False)"
   ]
  },
  {
   "cell_type": "markdown",
   "id": "3a41f992-5e39-4b35-9c66-452a3b76abf9",
   "metadata": {},
   "source": [
    "## Snow-17 SWE"
   ]
  },
  {
   "cell_type": "code",
   "execution_count": null,
   "id": "5a662fd4-8e9d-4551-bac5-a67fec79f1cb",
   "metadata": {},
   "outputs": [],
   "source": [
    "s17_swe = Snow17SWE(\n",
    "    SWE_HOME_DIR + 'CBRFC_Verde_1981_2020_SWE_inches.csv',\n",
    ")"
   ]
  },
  {
   "cell_type": "markdown",
   "id": "87bbf832-21b1-46a7-96da-ebabaeecbc21",
   "metadata": {},
   "source": [
    "## Target comparison zones"
   ]
  },
  {
   "cell_type": "code",
   "execution_count": null,
   "id": "5f31ea80-31b3-474c-b9cf-2ca68304ea7c",
   "metadata": {},
   "outputs": [],
   "source": [
    "target_zones = list(s17_swe.csv.columns)\n",
    "target_zones"
   ]
  },
  {
   "cell_type": "markdown",
   "id": "274bab58-b3f2-4533-97e5-a509d9b2a9cd",
   "metadata": {},
   "source": [
    "## SWANN for CBRFC zone"
   ]
  },
  {
   "cell_type": "code",
   "execution_count": null,
   "id": "3bc0e30a-1f82-4d8b-81f2-4ba13c7be386",
   "metadata": {},
   "outputs": [],
   "source": [
    "zone_db = ZoneDB(DB_CONNECTION_INFO)\n",
    "swann_xr = xr.open_mfdataset(SWANN_HOME_DIR + '*.nc', parallel=True)"
   ]
  },
  {
   "cell_type": "markdown",
   "id": "18f0ab46-7a03-4cab-afab-332b37ba873e",
   "metadata": {},
   "source": [
    "# Comparison "
   ]
  },
  {
   "cell_type": "code",
   "execution_count": null,
   "id": "87299dfb-3033-4ba9-9412-a4273dca3c4e",
   "metadata": {},
   "outputs": [],
   "source": [
    "comparison = [\n",
    "    ZoneCompare(\n",
    "        zone_name,\n",
    "        s17_swe.csv[zone_name],\n",
    "        swann_data_for_zone(swann_xr, zone_name, zone_db).SWE,\n",
    "        range(1982, 2020)\n",
    "    ).plot()\n",
    "    for zone_name in target_zones\n",
    "]"
   ]
  },
  {
   "cell_type": "code",
   "execution_count": null,
   "id": "aa5a0473-4e64-4b66-988a-bcf17b901713",
   "metadata": {},
   "outputs": [],
   "source": [
    "cluster.shutdown()"
   ]
  },
  {
   "cell_type": "code",
   "execution_count": null,
   "id": "40c3bddb-2191-49e9-ada7-01b3cb3977a6",
   "metadata": {},
   "outputs": [],
   "source": [
    "ZonePlotter.show_all(comparison)"
   ]
  },
  {
   "cell_type": "code",
   "execution_count": null,
   "id": "f76f0471-26e3-464b-a9df-58846fa34648",
   "metadata": {},
   "outputs": [],
   "source": [
    "ZonePlotter.save_html(HTML_OUTPUT + 'verde', comparison)"
   ]
  }
 ],
 "metadata": {
  "kernelspec": {
   "display_name": "snow-viz",
   "language": "python",
   "name": "snow-viz"
  },
  "language_info": {
   "codemirror_mode": {
    "name": "ipython",
    "version": 3
   },
   "file_extension": ".py",
   "mimetype": "text/x-python",
   "name": "python",
   "nbconvert_exporter": "python",
   "pygments_lexer": "ipython3",
   "version": "3.12.2"
  }
 },
 "nbformat": 4,
 "nbformat_minor": 5
}
